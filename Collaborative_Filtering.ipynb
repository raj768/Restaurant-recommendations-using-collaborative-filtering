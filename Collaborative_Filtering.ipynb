{
 "cells": [
  {
   "cell_type": "markdown",
   "metadata": {},
   "source": [
    "# Getting Started\n",
    "In this project, We will analyze datasets containing data on restaurants, consumers and user-item-rating. The goal of this project is to implement Collaborative Filtering i.e., to find similarities between various consumers and recommend restaurants to consumers.\n",
    "\n",
    "The datasets for this project can be found on Kaggle.\n",
    "\n",
    "The following code loads the datasets, along with a few of the necessary Python libraries required for this project."
   ]
  },
  {
   "cell_type": "code",
   "execution_count": 1,
   "metadata": {},
   "outputs": [],
   "source": [
    "# Import libraries necessary for this project\n",
    "import pandas as pd\n",
    "import numpy as np\n",
    "import matplotlib.pyplot as plt\n",
    "\n",
    "# Pretty display for notebooks\n",
    "%matplotlib inline"
   ]
  },
  {
   "cell_type": "code",
   "execution_count": 2,
   "metadata": {},
   "outputs": [
    {
     "name": "stdout",
     "output_type": "stream",
     "text": [
      "Loading restaurant datasets\n",
      "Payment dataset has 1314 samples with 2 features each.\n",
      "Cuisine dataset has 916 samples with 2 features each.\n",
      "Hours dataset has 2339 samples with 3 features each.\n",
      "Parking dataset has 702 samples with 2 features each.\n",
      "Geo-places dataset has 130 samples with 21 features each.\n",
      "\n",
      "\n",
      "Loading consumer datasets\n",
      "Cuisine dataset has 330 samples with 2 features each.\n",
      "Payment dataset has 177 samples with 2 features each.\n",
      "Profile dataset has 138 samples with 19 features each.\n",
      "\n",
      "\n",
      "Loading User-Item-Rating dataset\n",
      "Rating dataset has 1161 samples with 5 features each.\n"
     ]
    }
   ],
   "source": [
    "print('Loading restaurant datasets')\n",
    "\n",
    "# Load Restaurant Payment dataset\n",
    "try:\n",
    "    rest_pay = pd.read_csv('chefmozaccepts.csv')\n",
    "    print('Payment dataset has %d samples with %d features each.' % (rest_pay.shape))\n",
    "except:\n",
    "    print('Payment dataset could not be loaded. Is the dataset missing?')\n",
    "    \n",
    "# Load the Restaurant Cuisine dataset\n",
    "try:\n",
    "    rest_cuisine = pd.read_csv('chefmozcuisine.csv')\n",
    "    print('Cuisine dataset has %d samples with %d features each.' % (rest_cuisine.shape))\n",
    "except:\n",
    "    print('Cuisine dataset could not be loaded. Is the dataset missing?')\n",
    "    \n",
    "# Load the Restaurant Hours dataset\n",
    "try:\n",
    "    rest_hours = pd.read_csv('chefmozhours4.csv')\n",
    "    print('Hours dataset has %d samples with %d features each.' % (rest_hours.shape))\n",
    "except:\n",
    "    print('Hours dataset could not be loaded. Is the dataset missing?')\n",
    "    \n",
    "# Load the Restaurant Parking dataset\n",
    "try:\n",
    "    rest_parking = pd.read_csv('chefmozparking.csv')\n",
    "    print('Parking dataset has %d samples with %d features each.' % (rest_parking.shape))\n",
    "except:\n",
    "    print('Parking dataset could not be loaded. Is the dataset missing?')\n",
    "\n",
    "#Load Restaurant Geo-places dataset\n",
    "try:\n",
    "    rest_geo = pd.read_csv('geoplaces2.csv')\n",
    "    print('Geo-places dataset has %d samples with %d features each.' % (rest_geo.shape))\n",
    "except:\n",
    "    print('Geo-places dataset could not be loaded. Is the dataset missing?')\n",
    "\n",
    "print('\\n')\n",
    "\n",
    "print('Loading consumer datasets')\n",
    "\n",
    "# Load the Consumer Cuisine dataset\n",
    "try:\n",
    "    cons_cuisine = pd.read_csv('usercuisine.csv')\n",
    "    print('Cuisine dataset has %d samples with %d features each.' % (cons_cuisine.shape))\n",
    "except:\n",
    "    print('Cuisine dataset could not be loaded. Is the dataset missing?')\n",
    "\n",
    "#Load Consumer Payment dataset\n",
    "try:\n",
    "    cons_pay = pd.read_csv('userpayment.csv')\n",
    "    print('Payment dataset has %d samples with %d features each.' % (cons_pay.shape))\n",
    "except:\n",
    "    print('Payment dataset could not be loaded. Is the dataset missing?')\n",
    "\n",
    "#Load Consumer Profile dataset\n",
    "try:\n",
    "    cons_profile = pd.read_csv('userprofile.csv')\n",
    "    print('Profile dataset has %d samples with %d features each.' % (cons_profile.shape))\n",
    "except:\n",
    "    print('Profile dataset could not be loaded. Is the dataset missing?')\n",
    "    \n",
    "print('\\n')\n",
    "\n",
    "print('Loading User-Item-Rating dataset')\n",
    "\n",
    "#Load Rating dataset\n",
    "try:\n",
    "    rating = pd.read_csv('rating_final.csv')\n",
    "    print('Rating dataset has %d samples with %d features each.' % (rating.shape))\n",
    "except:\n",
    "    print('Rating dataset could not be loaded. Is the dataset missing?')"
   ]
  },
  {
   "cell_type": "markdown",
   "metadata": {},
   "source": [
    "Data Exploration\n",
    "In this section, we will begin exploring the data through visualizations and code to understand how features of each dataset are related to one another.\n",
    "\n",
    "Resturant datasets:\n",
    "\n",
    "1. rest_pay: 'placeID', 'Rpayment'\n",
    "2. rest_cuisine: 'placeID', 'Rcuisine' \n",
    "3. rest_hours: 'placeID', 'hours', 'days' \n",
    "4. rest_parking: 'placeID', 'parking_lot' \n",
    "5. rest_geo: 'placeID', 'latitude', 'longitude', 'the_geom_meter', 'name', 'address','city', 'state', 'country', 'fax', 'zip', 'alcohol', 'smoking_area','dress_code', 'accessibility', 'price', 'url', 'Rambience', 'franchise','area', 'other_services'\n",
    "\n",
    "User datasets:\n",
    "\n",
    "1. cons_pay: 'userID', 'Upayment'\n",
    "2. cons_cuisine: 'userID', 'Rcuisine'\n",
    "3. cons_profile: 'userID', 'latitude', 'longitude', 'smoker', 'drink_level', 'dress_preference', 'ambience', 'transport', 'marital_status', 'hijos', 'birth_year', 'interest', 'personality', 'religion', 'activity', 'color', 'weight', 'budget', 'height' \n",
    "\n",
    "Rating dataset:\n",
    "\n",
    "1. rating: 'userID', 'placeID', 'rating', 'food_rating', 'service_rating'"
   ]
  },
  {
   "cell_type": "code",
   "execution_count": 3,
   "metadata": {},
   "outputs": [
    {
     "name": "stdout",
     "output_type": "stream",
     "text": [
      "138\n"
     ]
    }
   ],
   "source": [
    "# No.of users who have given ratings to the restaurants\n",
    "list_users = rating.userID.unique()\n",
    "print(len(list_users))"
   ]
  },
  {
   "cell_type": "code",
   "execution_count": 4,
   "metadata": {},
   "outputs": [
    {
     "name": "stdout",
     "output_type": "stream",
     "text": [
      "138\n"
     ]
    }
   ],
   "source": [
    "users = cons_profile.userID.unique()\n",
    "print(len(users))"
   ]
  },
  {
   "cell_type": "code",
   "execution_count": 5,
   "metadata": {},
   "outputs": [
    {
     "name": "stdout",
     "output_type": "stream",
     "text": [
      "0\n"
     ]
    }
   ],
   "source": [
    "#Delete users from cons_profile who have not given ratings\n",
    "count = 0\n",
    "for index, row in cons_profile.iterrows():\n",
    "    if row['userID'] not in list_users:\n",
    "        count = count + 1\n",
    "        del row\n",
    "print(count)        "
   ]
  },
  {
   "cell_type": "markdown",
   "metadata": {},
   "source": [
    "- There are no users in cons_profile who has not provided the ratings."
   ]
  },
  {
   "cell_type": "markdown",
   "metadata": {},
   "source": [
    "# Data Visualisation\n",
    "We now plot a scatter matrix to show the correlation between the various features present in the User Dataset"
   ]
  },
  {
   "cell_type": "code",
   "execution_count": 6,
   "metadata": {},
   "outputs": [
    {
     "data": {
      "text/plain": [
       "array([[<matplotlib.axes._subplots.AxesSubplot object at 0x000001CCCE702048>,\n",
       "        <matplotlib.axes._subplots.AxesSubplot object at 0x000001CCCEA4FC18>,\n",
       "        <matplotlib.axes._subplots.AxesSubplot object at 0x000001CCCEA832B0>,\n",
       "        <matplotlib.axes._subplots.AxesSubplot object at 0x000001CCCEAAA940>,\n",
       "        <matplotlib.axes._subplots.AxesSubplot object at 0x000001CCCEAD2F98>],\n",
       "       [<matplotlib.axes._subplots.AxesSubplot object at 0x000001CCCEAD2FD0>,\n",
       "        <matplotlib.axes._subplots.AxesSubplot object at 0x000001CCCEB2CCF8>,\n",
       "        <matplotlib.axes._subplots.AxesSubplot object at 0x000001CCCEB593C8>,\n",
       "        <matplotlib.axes._subplots.AxesSubplot object at 0x000001CCCEB83A58>,\n",
       "        <matplotlib.axes._subplots.AxesSubplot object at 0x000001CCCEBB5128>],\n",
       "       [<matplotlib.axes._subplots.AxesSubplot object at 0x000001CCCEBDB7B8>,\n",
       "        <matplotlib.axes._subplots.AxesSubplot object at 0x000001CCCEC04E48>,\n",
       "        <matplotlib.axes._subplots.AxesSubplot object at 0x000001CCCEC35518>,\n",
       "        <matplotlib.axes._subplots.AxesSubplot object at 0x000001CCCEC59BA8>,\n",
       "        <matplotlib.axes._subplots.AxesSubplot object at 0x000001CCCEC8D278>],\n",
       "       [<matplotlib.axes._subplots.AxesSubplot object at 0x000001CCCECB6908>,\n",
       "        <matplotlib.axes._subplots.AxesSubplot object at 0x000001CCCECDCF98>,\n",
       "        <matplotlib.axes._subplots.AxesSubplot object at 0x000001CCCED0E668>,\n",
       "        <matplotlib.axes._subplots.AxesSubplot object at 0x000001CCCED34CF8>,\n",
       "        <matplotlib.axes._subplots.AxesSubplot object at 0x000001CCCED663C8>],\n",
       "       [<matplotlib.axes._subplots.AxesSubplot object at 0x000001CCCED8DA58>,\n",
       "        <matplotlib.axes._subplots.AxesSubplot object at 0x000001CCCEDC0128>,\n",
       "        <matplotlib.axes._subplots.AxesSubplot object at 0x000001CCCEDE87B8>,\n",
       "        <matplotlib.axes._subplots.AxesSubplot object at 0x000001CCCEE0EE48>,\n",
       "        <matplotlib.axes._subplots.AxesSubplot object at 0x000001CCCEE3F518>]],\n",
       "      dtype=object)"
      ]
     },
     "execution_count": 6,
     "metadata": {},
     "output_type": "execute_result"
    },
    {
     "data": {
      "image/png": "[encoded data removed]",
      "text/plain": [
       "<Figure size 1440x1440 with 25 Axes>"
      ]
     },
     "metadata": {},
     "output_type": "display_data"
    }
   ],
   "source": [
    "# #Scatter matrix for continuous values in the user dataset\n",
    "pd.plotting.scatter_matrix(cons_profile, alpha = 0.3, figsize = (20,20), diagonal = 'kde')\n",
    "# #From the graph below, we know that there's a correlation between weight and height and therefore we can remove one of them."
   ]
  },
  {
   "cell_type": "markdown",
   "metadata": {},
   "source": [
    "The above graph shows that the weight and height are correlated to each other and hence we drop height as it makes no significant impact on the recommendation."
   ]
  },
  {
   "cell_type": "code",
   "execution_count": 7,
   "metadata": {},
   "outputs": [],
   "source": [
    "# #Remove Height since it shows high correlation with Weight\n",
    "cons_profile = cons_profile.drop('height', axis = 1)"
   ]
  },
  {
   "cell_type": "markdown",
   "metadata": {},
   "source": [
    "# Checking and replacing missing values in the datasets\n",
    "## Restaurant Dataset\n",
    "- The below code gives True if any of the attributes have missing values and False otherwise"
   ]
  },
  {
   "cell_type": "code",
   "execution_count": 8,
   "metadata": {},
   "outputs": [
    {
     "name": "stdout",
     "output_type": "stream",
     "text": [
      "Customer:\n",
      " userID              False\n",
      "latitude            False\n",
      "longitude           False\n",
      "smoker               True\n",
      "drink_level         False\n",
      "dress_preference     True\n",
      "ambience             True\n",
      "transport            True\n",
      "marital_status       True\n",
      "hijos                True\n",
      "birth_year          False\n",
      "interest            False\n",
      "personality         False\n",
      "religion            False\n",
      "activity             True\n",
      "color               False\n",
      "weight              False\n",
      "budget               True\n",
      "dtype: bool\n"
     ]
    }
   ],
   "source": [
    "print('Customer:\\n',cons_profile.isin(['?']).any())"
   ]
  },
  {
   "cell_type": "markdown",
   "metadata": {},
   "source": [
    "##  User Dataset\n",
    "- We store indices of features having 'Nan' or '?' values\n",
    "- Then, we put all the values with missing attributes into the missing list"
   ]
  },
  {
   "cell_type": "code",
   "execution_count": 9,
   "metadata": {},
   "outputs": [],
   "source": [
    "indices = set() #to store unique values\n",
    "for index,row in cons_profile.iterrows():\n",
    "    for i in range(len(row)):\n",
    "        if row[i] is np.nan or row [i] is '?':\n",
    "            indices.add(i)"
   ]
  },
  {
   "cell_type": "code",
   "execution_count": 10,
   "metadata": {},
   "outputs": [
    {
     "name": "stdout",
     "output_type": "stream",
     "text": [
      "['smoker', 'dress_preference', 'ambience', 'transport', 'marital_status', 'hijos', 'activity', 'budget']\n"
     ]
    }
   ],
   "source": [
    "#Features having 'Nan' or '?' values\n",
    "missing = list(cons_profile.columns[list(indices)])\n",
    "print(missing)"
   ]
  },
  {
   "cell_type": "markdown",
   "metadata": {},
   "source": [
    "Only the features with categorical data have missing values.\n",
    "\n",
    "Hence, we replace 'Nan' or '?' values with a random value from the feature"
   ]
  },
  {
   "cell_type": "code",
   "execution_count": 11,
   "metadata": {},
   "outputs": [
    {
     "name": "stderr",
     "output_type": "stream",
     "text": [
      "C:\\Users\\karuna\\Anaconda3\\lib\\site-packages\\ipykernel_launcher.py:11: SettingWithCopyWarning: \n",
      "A value is trying to be set on a copy of a slice from a DataFrame\n",
      "\n",
      "See the caveats in the documentation: http://pandas.pydata.org/pandas-docs/stable/indexing.html#indexing-view-versus-copy\n",
      "  # This is added back by InteractiveShellApp.init_path()\n"
     ]
    }
   ],
   "source": [
    "import random \n",
    "for attr in missing:\n",
    "    uni = list(cons_profile[attr].unique()) #List of all unique values in the feature\n",
    "    if '?' in uni:\n",
    "        uni.remove('?') #remove '?' if present in the list\n",
    "    if np.nan in uni:\n",
    "        uni.remove(np.nan) #remove 'Nan' if present in the list\n",
    "    i=0\n",
    "    for value in cons_profile[attr]: \n",
    "        if value is np.nan or value is '?':\n",
    "            cons_profile[attr][i] = cons_profile[attr][i].replace(value,random.choice(uni)) #replace it with a random item from the list\n",
    "        i+=1"
   ]
  },
  {
   "cell_type": "markdown",
   "metadata": {},
   "source": [
    "# Encoding String/Object type data into Integer"
   ]
  },
  {
   "cell_type": "code",
   "execution_count": 12,
   "metadata": {},
   "outputs": [],
   "source": [
    "data = cons_profile.copy()\n",
    "data = data.drop('userID', axis = 1)"
   ]
  },
  {
   "cell_type": "markdown",
   "metadata": {},
   "source": [
    "We use Label Encoding to encode the letter/word data and convert it into numbers"
   ]
  },
  {
   "cell_type": "code",
   "execution_count": 13,
   "metadata": {},
   "outputs": [],
   "source": [
    "from sklearn.preprocessing import LabelEncoder\n",
    "le = LabelEncoder()\n",
    "data['smoker'] = le.fit_transform(data['smoker'])\n",
    "data['drink_level'] = le.fit_transform(data['drink_level'])\n",
    "data['dress_preference'] = le.fit_transform(data['dress_preference'])\n",
    "data['ambience'] = le.fit_transform(data['ambience'])\n",
    "data['transport'] = le.fit_transform(data['transport'])\n",
    "data['marital_status'] = le.fit_transform(data['marital_status'])\n",
    "data['hijos'] = le.fit_transform(data['hijos'])\n",
    "data['interest'] = le.fit_transform(data['interest'])\n",
    "data['personality'] = le.fit_transform(data['personality'])\n",
    "data['religion'] = le.fit_transform(data['religion'])\n",
    "data['activity'] = le.fit_transform(data['activity'])\n",
    "data['color'] = le.fit_transform(data['color'])\n",
    "data['budget'] = le.fit_transform(data['budget'])\n",
    "data['longitude'] = le.fit_transform(data['longitude'])\n",
    "data['latitude'] = le.fit_transform(data['latitude'])"
   ]
  },
  {
   "cell_type": "markdown",
   "metadata": {},
   "source": [
    "# Splitting Data into Train and Test Datasets\n",
    "- Here, we shuffle the data and randomly split the data into train and test set\n",
    "- We make sure that the Test set contains roughly 10% and Train set contains roughly 90% of original dataset"
   ]
  },
  {
   "cell_type": "code",
   "execution_count": 14,
   "metadata": {},
   "outputs": [
    {
     "name": "stdout",
     "output_type": "stream",
     "text": [
      "118\n",
      "20\n"
     ]
    }
   ],
   "source": [
    "from sklearn.utils import shuffle\n",
    "data = shuffle(data)\n",
    "test_size = np.random.rand(len(data)) < 0.9\n",
    "cons_train = data[test_size]\n",
    "cons_test = data[~test_size]\n",
    "print(len(cons_train))\n",
    "print(len(cons_test))"
   ]
  },
  {
   "cell_type": "markdown",
   "metadata": {},
   "source": [
    "## Choosing a Sample to make a recommendation\n",
    "We first obtain a random index from the Test dataset(cons_test)"
   ]
  },
  {
   "cell_type": "code",
   "execution_count": 15,
   "metadata": {},
   "outputs": [],
   "source": [
    "train_users = []\n",
    "for index,row in cons_train.iterrows():\n",
    "    train_users.append(index)\n",
    "test_users = []\n",
    "for index,row in cons_test.iterrows():\n",
    "    test_users.append(index)\n",
    "\n",
    "sample_user_index = random.choice(test_users)"
   ]
  },
  {
   "cell_type": "markdown",
   "metadata": {},
   "source": [
    "Then, we store the entire row of details of that user corresponding to the index, obtained above, in the test variable"
   ]
  },
  {
   "cell_type": "code",
   "execution_count": 16,
   "metadata": {},
   "outputs": [],
   "source": [
    "for index,row in cons_test.iterrows():\n",
    "    if index == sample_user_index:\n",
    "        test = pd.DataFrame(row.values.reshape(1,17))"
   ]
  },
  {
   "cell_type": "markdown",
   "metadata": {},
   "source": [
    "# Getting Recommendation from the Model\n",
    "- We use KDTree model to obtain similarity of the various features among different users with the query user(test user)\n",
    "- The KDTree uses Euclidian Distance formulae to obtain these similarity values"
   ]
  },
  {
   "cell_type": "code",
   "execution_count": 17,
   "metadata": {},
   "outputs": [],
   "source": [
    "from sklearn.neighbors import KDTree\n",
    "tree = KDTree(cons_train)\n",
    "dist, ind = tree.query(test, k=len(cons_train))\n",
    "val = []\n",
    "for i in ind:\n",
    "    for j in i:\n",
    "        val.append(j)\n",
    "i = 0\n",
    "\n",
    "# res is a dataFrame to store the details of user that was recommended by KDTree \n",
    "res = pd.DataFrame()\n",
    "for index,row in cons_train.iterrows():\n",
    "    if i in val:\n",
    "        res = res.append(row)\n",
    "    i+=1"
   ]
  },
  {
   "cell_type": "code",
   "execution_count": 18,
   "metadata": {},
   "outputs": [],
   "source": [
    "# percentage similarity between the users\n",
    "dist = dist.reshape(len(cons_train),)\n",
    "dist = (1 - (dist-dist.min())/(dist.max()-dist.min()))*100 "
   ]
  },
  {
   "cell_type": "code",
   "execution_count": 19,
   "metadata": {},
   "outputs": [
    {
     "name": "stdout",
     "output_type": "stream",
     "text": [
      "[100.          99.71478521  99.01037779  96.2281655   94.79193847]\n"
     ]
    }
   ],
   "source": [
    "print(dist[:5])"
   ]
  },
  {
   "cell_type": "code",
   "execution_count": 20,
   "metadata": {},
   "outputs": [],
   "source": [
    "# top 5 similar users with their userID and percentage of similarity\n",
    "res = res[:5]\n",
    "res['percent'] = dist[:5]"
   ]
  },
  {
   "cell_type": "code",
   "execution_count": 21,
   "metadata": {},
   "outputs": [
    {
     "data": {
      "text/html": [
       "<div>\n",
       "<style scoped>\n",
       "    .dataframe tbody tr th:only-of-type {\n",
       "        vertical-align: middle;\n",
       "    }\n",
       "\n",
       "    .dataframe tbody tr th {\n",
       "        vertical-align: top;\n",
       "    }\n",
       "\n",
       "    .dataframe thead th {\n",
       "        text-align: right;\n",
       "    }\n",
       "</style>\n",
       "<table border=\"1\" class=\"dataframe\">\n",
       "  <thead>\n",
       "    <tr style=\"text-align: right;\">\n",
       "      <th></th>\n",
       "      <th>activity</th>\n",
       "      <th>ambience</th>\n",
       "      <th>birth_year</th>\n",
       "      <th>budget</th>\n",
       "      <th>color</th>\n",
       "      <th>dress_preference</th>\n",
       "      <th>drink_level</th>\n",
       "      <th>hijos</th>\n",
       "      <th>interest</th>\n",
       "      <th>latitude</th>\n",
       "      <th>longitude</th>\n",
       "      <th>marital_status</th>\n",
       "      <th>personality</th>\n",
       "      <th>religion</th>\n",
       "      <th>smoker</th>\n",
       "      <th>transport</th>\n",
       "      <th>weight</th>\n",
       "      <th>percent</th>\n",
       "    </tr>\n",
       "  </thead>\n",
       "  <tbody>\n",
       "    <tr>\n",
       "      <th>32</th>\n",
       "      <td>1.0</td>\n",
       "      <td>0.0</td>\n",
       "      <td>1991.0</td>\n",
       "      <td>1.0</td>\n",
       "      <td>7.0</td>\n",
       "      <td>3.0</td>\n",
       "      <td>2.0</td>\n",
       "      <td>1.0</td>\n",
       "      <td>1.0</td>\n",
       "      <td>60.0</td>\n",
       "      <td>28.0</td>\n",
       "      <td>1.0</td>\n",
       "      <td>1.0</td>\n",
       "      <td>4.0</td>\n",
       "      <td>0.0</td>\n",
       "      <td>1.0</td>\n",
       "      <td>54.0</td>\n",
       "      <td>100.000000</td>\n",
       "    </tr>\n",
       "    <tr>\n",
       "      <th>0</th>\n",
       "      <td>1.0</td>\n",
       "      <td>0.0</td>\n",
       "      <td>1989.0</td>\n",
       "      <td>2.0</td>\n",
       "      <td>0.0</td>\n",
       "      <td>2.0</td>\n",
       "      <td>0.0</td>\n",
       "      <td>1.0</td>\n",
       "      <td>4.0</td>\n",
       "      <td>44.0</td>\n",
       "      <td>29.0</td>\n",
       "      <td>1.0</td>\n",
       "      <td>3.0</td>\n",
       "      <td>4.0</td>\n",
       "      <td>0.0</td>\n",
       "      <td>1.0</td>\n",
       "      <td>69.0</td>\n",
       "      <td>99.714785</td>\n",
       "    </tr>\n",
       "    <tr>\n",
       "      <th>2</th>\n",
       "      <td>1.0</td>\n",
       "      <td>0.0</td>\n",
       "      <td>1989.0</td>\n",
       "      <td>1.0</td>\n",
       "      <td>1.0</td>\n",
       "      <td>1.0</td>\n",
       "      <td>2.0</td>\n",
       "      <td>1.0</td>\n",
       "      <td>1.0</td>\n",
       "      <td>27.0</td>\n",
       "      <td>50.0</td>\n",
       "      <td>1.0</td>\n",
       "      <td>1.0</td>\n",
       "      <td>0.0</td>\n",
       "      <td>0.0</td>\n",
       "      <td>2.0</td>\n",
       "      <td>60.0</td>\n",
       "      <td>99.010378</td>\n",
       "    </tr>\n",
       "    <tr>\n",
       "      <th>17</th>\n",
       "      <td>1.0</td>\n",
       "      <td>1.0</td>\n",
       "      <td>1989.0</td>\n",
       "      <td>1.0</td>\n",
       "      <td>1.0</td>\n",
       "      <td>1.0</td>\n",
       "      <td>1.0</td>\n",
       "      <td>1.0</td>\n",
       "      <td>3.0</td>\n",
       "      <td>97.0</td>\n",
       "      <td>68.0</td>\n",
       "      <td>1.0</td>\n",
       "      <td>3.0</td>\n",
       "      <td>1.0</td>\n",
       "      <td>1.0</td>\n",
       "      <td>2.0</td>\n",
       "      <td>65.0</td>\n",
       "      <td>96.228165</td>\n",
       "    </tr>\n",
       "    <tr>\n",
       "      <th>87</th>\n",
       "      <td>1.0</td>\n",
       "      <td>0.0</td>\n",
       "      <td>1991.0</td>\n",
       "      <td>2.0</td>\n",
       "      <td>1.0</td>\n",
       "      <td>2.0</td>\n",
       "      <td>2.0</td>\n",
       "      <td>1.0</td>\n",
       "      <td>1.0</td>\n",
       "      <td>48.0</td>\n",
       "      <td>56.0</td>\n",
       "      <td>1.0</td>\n",
       "      <td>1.0</td>\n",
       "      <td>0.0</td>\n",
       "      <td>0.0</td>\n",
       "      <td>1.0</td>\n",
       "      <td>62.0</td>\n",
       "      <td>94.791938</td>\n",
       "    </tr>\n",
       "  </tbody>\n",
       "</table>\n",
       "</div>"
      ],
      "text/plain": [
       "    activity  ambience  birth_year  budget  color  dress_preference  \\\n",
       "32       1.0       0.0      1991.0     1.0    7.0               3.0   \n",
       "0        1.0       0.0      1989.0     2.0    0.0               2.0   \n",
       "2        1.0       0.0      1989.0     1.0    1.0               1.0   \n",
       "17       1.0       1.0      1989.0     1.0    1.0               1.0   \n",
       "87       1.0       0.0      1991.0     2.0    1.0               2.0   \n",
       "\n",
       "    drink_level  hijos  interest  latitude  longitude  marital_status  \\\n",
       "32          2.0    1.0       1.0      60.0       28.0             1.0   \n",
       "0           0.0    1.0       4.0      44.0       29.0             1.0   \n",
       "2           2.0    1.0       1.0      27.0       50.0             1.0   \n",
       "17          1.0    1.0       3.0      97.0       68.0             1.0   \n",
       "87          2.0    1.0       1.0      48.0       56.0             1.0   \n",
       "\n",
       "    personality  religion  smoker  transport  weight     percent  \n",
       "32          1.0       4.0     0.0        1.0    54.0  100.000000  \n",
       "0           3.0       4.0     0.0        1.0    69.0   99.714785  \n",
       "2           1.0       0.0     0.0        2.0    60.0   99.010378  \n",
       "17          3.0       1.0     1.0        2.0    65.0   96.228165  \n",
       "87          1.0       0.0     0.0        1.0    62.0   94.791938  "
      ]
     },
     "execution_count": 21,
     "metadata": {},
     "output_type": "execute_result"
    }
   ],
   "source": [
    "res"
   ]
  },
  {
   "cell_type": "code",
   "execution_count": 22,
   "metadata": {},
   "outputs": [],
   "source": [
    "ind = [] # indices of the top 5 similar users\n",
    "for index,row in res.iterrows():\n",
    "    ind.append(index)"
   ]
  },
  {
   "cell_type": "code",
   "execution_count": 23,
   "metadata": {},
   "outputs": [],
   "source": [
    "per = [] # percentage of similarity of the top 5 users\n",
    "for index,row in res.iterrows():\n",
    "    per.append(row[17])"
   ]
  },
  {
   "cell_type": "code",
   "execution_count": 24,
   "metadata": {},
   "outputs": [
    {
     "name": "stdout",
     "output_type": "stream",
     "text": [
      "{32: 100.0, 0: 99.714785211909, 2: 99.01037779290519, 17: 96.2281654976255, 87: 94.79193846522887}\n"
     ]
    }
   ],
   "source": [
    "ind_per = {} # dictionary with the key - indices, value - percent\n",
    "for i in range(len(ind)):\n",
    "    ind_per[ind[i]] = per[i]\n",
    "print(ind_per)"
   ]
  },
  {
   "cell_type": "code",
   "execution_count": 25,
   "metadata": {},
   "outputs": [],
   "source": [
    "ids = {} # dictionary to map the userID with the percent corresponding to the indices\n",
    "for index,row in cons_profile.iterrows():\n",
    "    if index in ind:\n",
    "        ids[row[0]] = ind_per[index]"
   ]
  },
  {
   "cell_type": "code",
   "execution_count": 26,
   "metadata": {},
   "outputs": [
    {
     "name": "stdout",
     "output_type": "stream",
     "text": [
      "{'U1001': 99.714785211909, 'U1003': 99.01037779290519, 'U1018': 96.2281654976255, 'U1033': 100.0, 'U1088': 94.79193846522887}\n"
     ]
    }
   ],
   "source": [
    "print(ids)"
   ]
  },
  {
   "cell_type": "code",
   "execution_count": 27,
   "metadata": {},
   "outputs": [
    {
     "name": "stdout",
     "output_type": "stream",
     "text": [
      "Help on function recommendation in module __main__:\n",
      "\n",
      "recommendation(ids)\n",
      "    Function that recommends the provided user with a list of top rated restaurants\n",
      "\n"
     ]
    }
   ],
   "source": [
    "\"\"\"\n",
    "This is a function takes as parameters IDs of similar users.\n",
    "Computes the average ratings provided by the them.\n",
    "Obtains the top rated restaurants (restaurants with highest average rating).\n",
    "The return value shall be the dictionary with key - placeID and value - recommendation percentage.\n",
    "\n",
    "\"\"\"\n",
    "def recommendation(ids):\n",
    "    \"\"\"Function that recommends the provided user with a list of top rated restaurants\"\"\"\n",
    "    recommend = {}\n",
    "    all_rest = pd.DataFrame()\n",
    "    for index,row in rating.iterrows():\n",
    "        if row[0] in ids:\n",
    "            all_rest = all_rest.append(row)\n",
    "            all_rest.loc[index, 'Percent'] = ids[row[0]]\n",
    "    \n",
    "    all_rest['avg'] = (all_rest['rating'] + all_rest['food_rating'] + all_rest['service_rating']) / 3\n",
    "    res = all_rest.groupby(['placeID'])[['Percent','avg']].max()\n",
    "    res = res.sort_values(['Percent','avg'],ascending = False)\n",
    "    res.drop('avg',axis = 1, inplace = True)\n",
    "    for placeid in res.index:\n",
    "         recommend[placeid] = res.get_value(placeid, 'Percent')\n",
    "    return recommend\n",
    "help(recommendation)"
   ]
  },
  {
   "cell_type": "code",
   "execution_count": 28,
   "metadata": {},
   "outputs": [
    {
     "name": "stderr",
     "output_type": "stream",
     "text": [
      "C:\\Users\\karuna\\Anaconda3\\lib\\site-packages\\ipykernel_launcher.py:22: FutureWarning: get_value is deprecated and will be removed in a future release. Please use .at[] or .iat[] accessors instead\n"
     ]
    }
   ],
   "source": [
    "recommend = recommendation(ids)"
   ]
  },
  {
   "cell_type": "code",
   "execution_count": 29,
   "metadata": {},
   "outputs": [],
   "source": [
    "result = pd.DataFrame() # final dataframe which comprises of the restaurant details along with the placeID and percent.\n",
    "percent = []\n",
    "for index,row in rest_geo.iterrows():\n",
    "    if row[0] in recommend.keys():\n",
    "        result = result.append(row)\n",
    "        percent.append(recommend[row[0]])      \n",
    "result['Recommendation Percentage'] = percent"
   ]
  },
  {
   "cell_type": "code",
   "execution_count": 30,
   "metadata": {},
   "outputs": [],
   "source": [
    "result = result[['placeID','name','latitude','longitude','price','Recommendation Percentage']]"
   ]
  },
  {
   "cell_type": "code",
   "execution_count": 31,
   "metadata": {},
   "outputs": [
    {
     "data": {
      "text/html": [
       "<div>\n",
       "<style scoped>\n",
       "    .dataframe tbody tr th:only-of-type {\n",
       "        vertical-align: middle;\n",
       "    }\n",
       "\n",
       "    .dataframe tbody tr th {\n",
       "        vertical-align: top;\n",
       "    }\n",
       "\n",
       "    .dataframe thead th {\n",
       "        text-align: right;\n",
       "    }\n",
       "</style>\n",
       "<table border=\"1\" class=\"dataframe\">\n",
       "  <thead>\n",
       "    <tr style=\"text-align: right;\">\n",
       "      <th></th>\n",
       "      <th>placeID</th>\n",
       "      <th>name</th>\n",
       "      <th>latitude</th>\n",
       "      <th>longitude</th>\n",
       "      <th>price</th>\n",
       "      <th>Recommendation Percentage</th>\n",
       "    </tr>\n",
       "  </thead>\n",
       "  <tbody>\n",
       "    <tr>\n",
       "      <th>121</th>\n",
       "      <td>135085.0</td>\n",
       "      <td>Tortas Locas Hipocampo</td>\n",
       "      <td>22.150802</td>\n",
       "      <td>-100.982680</td>\n",
       "      <td>medium</td>\n",
       "      <td>100.000000</td>\n",
       "    </tr>\n",
       "    <tr>\n",
       "      <th>42</th>\n",
       "      <td>135046.0</td>\n",
       "      <td>Restaurante El Reyecito</td>\n",
       "      <td>22.141282</td>\n",
       "      <td>-101.002958</td>\n",
       "      <td>medium</td>\n",
       "      <td>100.000000</td>\n",
       "    </tr>\n",
       "    <tr>\n",
       "      <th>120</th>\n",
       "      <td>135028.0</td>\n",
       "      <td>La Virreina</td>\n",
       "      <td>22.146658</td>\n",
       "      <td>-100.987219</td>\n",
       "      <td>medium</td>\n",
       "      <td>100.000000</td>\n",
       "    </tr>\n",
       "    <tr>\n",
       "      <th>110</th>\n",
       "      <td>132921.0</td>\n",
       "      <td>crudalia</td>\n",
       "      <td>22.150305</td>\n",
       "      <td>-100.989134</td>\n",
       "      <td>low</td>\n",
       "      <td>100.000000</td>\n",
       "    </tr>\n",
       "    <tr>\n",
       "      <th>108</th>\n",
       "      <td>135075.0</td>\n",
       "      <td>Mariscos El Pescador</td>\n",
       "      <td>22.139573</td>\n",
       "      <td>-100.991564</td>\n",
       "      <td>medium</td>\n",
       "      <td>100.000000</td>\n",
       "    </tr>\n",
       "    <tr>\n",
       "      <th>12</th>\n",
       "      <td>135065.0</td>\n",
       "      <td>El angel Restaurante</td>\n",
       "      <td>22.149580</td>\n",
       "      <td>-100.999557</td>\n",
       "      <td>high</td>\n",
       "      <td>100.000000</td>\n",
       "    </tr>\n",
       "    <tr>\n",
       "      <th>92</th>\n",
       "      <td>132572.0</td>\n",
       "      <td>Cafe Chaires</td>\n",
       "      <td>22.141647</td>\n",
       "      <td>-100.992712</td>\n",
       "      <td>low</td>\n",
       "      <td>100.000000</td>\n",
       "    </tr>\n",
       "    <tr>\n",
       "      <th>28</th>\n",
       "      <td>135045.0</td>\n",
       "      <td>Restaurante la Gran Via</td>\n",
       "      <td>22.151189</td>\n",
       "      <td>-100.981790</td>\n",
       "      <td>high</td>\n",
       "      <td>100.000000</td>\n",
       "    </tr>\n",
       "    <tr>\n",
       "      <th>75</th>\n",
       "      <td>132951.0</td>\n",
       "      <td>VIPS</td>\n",
       "      <td>22.154474</td>\n",
       "      <td>-100.985809</td>\n",
       "      <td>low</td>\n",
       "      <td>100.000000</td>\n",
       "    </tr>\n",
       "    <tr>\n",
       "      <th>35</th>\n",
       "      <td>135030.0</td>\n",
       "      <td>Preambulo Wifi Zone Cafe</td>\n",
       "      <td>22.147880</td>\n",
       "      <td>-100.989472</td>\n",
       "      <td>medium</td>\n",
       "      <td>100.000000</td>\n",
       "    </tr>\n",
       "    <tr>\n",
       "      <th>60</th>\n",
       "      <td>135038.0</td>\n",
       "      <td>Restaurant la Chalita</td>\n",
       "      <td>22.155651</td>\n",
       "      <td>-100.977767</td>\n",
       "      <td>medium</td>\n",
       "      <td>100.000000</td>\n",
       "    </tr>\n",
       "    <tr>\n",
       "      <th>99</th>\n",
       "      <td>135039.0</td>\n",
       "      <td>Restaurant de Mariscos de Picon</td>\n",
       "      <td>22.145893</td>\n",
       "      <td>-100.974870</td>\n",
       "      <td>low</td>\n",
       "      <td>99.714785</td>\n",
       "    </tr>\n",
       "    <tr>\n",
       "      <th>87</th>\n",
       "      <td>132830.0</td>\n",
       "      <td>Rincon Huasteco</td>\n",
       "      <td>22.150849</td>\n",
       "      <td>-100.939752</td>\n",
       "      <td>low</td>\n",
       "      <td>99.714785</td>\n",
       "    </tr>\n",
       "    <tr>\n",
       "      <th>63</th>\n",
       "      <td>135051.0</td>\n",
       "      <td>Restaurante Versalles</td>\n",
       "      <td>22.151189</td>\n",
       "      <td>-100.977058</td>\n",
       "      <td>low</td>\n",
       "      <td>99.714785</td>\n",
       "    </tr>\n",
       "    <tr>\n",
       "      <th>5</th>\n",
       "      <td>135040.0</td>\n",
       "      <td>Restaurant los Compadres</td>\n",
       "      <td>22.135617</td>\n",
       "      <td>-100.969709</td>\n",
       "      <td>high</td>\n",
       "      <td>99.714785</td>\n",
       "    </tr>\n",
       "    <tr>\n",
       "      <th>1</th>\n",
       "      <td>132825.0</td>\n",
       "      <td>puesto de tacos</td>\n",
       "      <td>22.147392</td>\n",
       "      <td>-100.983092</td>\n",
       "      <td>low</td>\n",
       "      <td>99.714785</td>\n",
       "    </tr>\n",
       "    <tr>\n",
       "      <th>34</th>\n",
       "      <td>135025.0</td>\n",
       "      <td>El Rincon de San Francisco</td>\n",
       "      <td>22.149550</td>\n",
       "      <td>-100.977970</td>\n",
       "      <td>medium</td>\n",
       "      <td>99.714785</td>\n",
       "    </tr>\n",
       "    <tr>\n",
       "      <th>20</th>\n",
       "      <td>135033.0</td>\n",
       "      <td>Restaurant El Muladar de Calzada</td>\n",
       "      <td>22.141610</td>\n",
       "      <td>-100.973142</td>\n",
       "      <td>medium</td>\n",
       "      <td>99.714785</td>\n",
       "    </tr>\n",
       "    <tr>\n",
       "      <th>40</th>\n",
       "      <td>135041.0</td>\n",
       "      <td>Luna Cafe</td>\n",
       "      <td>22.151060</td>\n",
       "      <td>-100.977659</td>\n",
       "      <td>medium</td>\n",
       "      <td>99.010378</td>\n",
       "    </tr>\n",
       "    <tr>\n",
       "      <th>117</th>\n",
       "      <td>132754.0</td>\n",
       "      <td>Cabana Huasteca</td>\n",
       "      <td>22.147738</td>\n",
       "      <td>-100.990616</td>\n",
       "      <td>medium</td>\n",
       "      <td>99.010378</td>\n",
       "    </tr>\n",
       "    <tr>\n",
       "      <th>101</th>\n",
       "      <td>132755.0</td>\n",
       "      <td>La Estrella de Dimas</td>\n",
       "      <td>22.153324</td>\n",
       "      <td>-101.019546</td>\n",
       "      <td>medium</td>\n",
       "      <td>99.010378</td>\n",
       "    </tr>\n",
       "    <tr>\n",
       "      <th>17</th>\n",
       "      <td>132937.0</td>\n",
       "      <td>rockabilly</td>\n",
       "      <td>22.150019</td>\n",
       "      <td>-100.979920</td>\n",
       "      <td>low</td>\n",
       "      <td>99.010378</td>\n",
       "    </tr>\n",
       "    <tr>\n",
       "      <th>95</th>\n",
       "      <td>132922.0</td>\n",
       "      <td>cafe punta del cielo</td>\n",
       "      <td>22.151135</td>\n",
       "      <td>-100.982311</td>\n",
       "      <td>medium</td>\n",
       "      <td>99.010378</td>\n",
       "    </tr>\n",
       "    <tr>\n",
       "      <th>47</th>\n",
       "      <td>135059.0</td>\n",
       "      <td>Restaurant Bar Hacienda los Martinez</td>\n",
       "      <td>22.145108</td>\n",
       "      <td>-100.989547</td>\n",
       "      <td>medium</td>\n",
       "      <td>99.010378</td>\n",
       "    </tr>\n",
       "    <tr>\n",
       "      <th>21</th>\n",
       "      <td>132862.0</td>\n",
       "      <td>La Posada del Virrey</td>\n",
       "      <td>22.150643</td>\n",
       "      <td>-100.987015</td>\n",
       "      <td>high</td>\n",
       "      <td>99.010378</td>\n",
       "    </tr>\n",
       "    <tr>\n",
       "      <th>62</th>\n",
       "      <td>132723.0</td>\n",
       "      <td>Gordas de morales</td>\n",
       "      <td>22.148934</td>\n",
       "      <td>-101.019845</td>\n",
       "      <td>medium</td>\n",
       "      <td>99.010378</td>\n",
       "    </tr>\n",
       "    <tr>\n",
       "      <th>59</th>\n",
       "      <td>135064.0</td>\n",
       "      <td>Restaurante El Chivero S.A. de C.V.</td>\n",
       "      <td>22.154687</td>\n",
       "      <td>-100.996617</td>\n",
       "      <td>high</td>\n",
       "      <td>99.010378</td>\n",
       "    </tr>\n",
       "    <tr>\n",
       "      <th>37</th>\n",
       "      <td>135079.0</td>\n",
       "      <td>Koye Sushi</td>\n",
       "      <td>22.156376</td>\n",
       "      <td>-100.998355</td>\n",
       "      <td>high</td>\n",
       "      <td>99.010378</td>\n",
       "    </tr>\n",
       "    <tr>\n",
       "      <th>50</th>\n",
       "      <td>135080.0</td>\n",
       "      <td>los Toneles</td>\n",
       "      <td>22.145008</td>\n",
       "      <td>-100.997969</td>\n",
       "      <td>high</td>\n",
       "      <td>99.010378</td>\n",
       "    </tr>\n",
       "    <tr>\n",
       "      <th>61</th>\n",
       "      <td>135081.0</td>\n",
       "      <td>El Club</td>\n",
       "      <td>22.164842</td>\n",
       "      <td>-100.960493</td>\n",
       "      <td>medium</td>\n",
       "      <td>96.228165</td>\n",
       "    </tr>\n",
       "    <tr>\n",
       "      <th>36</th>\n",
       "      <td>135057.0</td>\n",
       "      <td>El Herradero Restaurante and Bar</td>\n",
       "      <td>22.145992</td>\n",
       "      <td>-100.955118</td>\n",
       "      <td>medium</td>\n",
       "      <td>96.228165</td>\n",
       "    </tr>\n",
       "    <tr>\n",
       "      <th>52</th>\n",
       "      <td>135066.0</td>\n",
       "      <td>Restaurante Guerra</td>\n",
       "      <td>22.168350</td>\n",
       "      <td>-100.972466</td>\n",
       "      <td>high</td>\n",
       "      <td>96.228165</td>\n",
       "    </tr>\n",
       "    <tr>\n",
       "      <th>102</th>\n",
       "      <td>135043.0</td>\n",
       "      <td>pizza clasica</td>\n",
       "      <td>22.185756</td>\n",
       "      <td>-100.944518</td>\n",
       "      <td>medium</td>\n",
       "      <td>96.228165</td>\n",
       "    </tr>\n",
       "    <tr>\n",
       "      <th>11</th>\n",
       "      <td>135069.0</td>\n",
       "      <td>Abondance Restaurante Bar</td>\n",
       "      <td>22.140129</td>\n",
       "      <td>-100.944872</td>\n",
       "      <td>low</td>\n",
       "      <td>96.228165</td>\n",
       "    </tr>\n",
       "    <tr>\n",
       "      <th>113</th>\n",
       "      <td>135062.0</td>\n",
       "      <td>Restaurante El Cielo Potosino</td>\n",
       "      <td>22.153703</td>\n",
       "      <td>-100.979033</td>\n",
       "      <td>medium</td>\n",
       "      <td>96.228165</td>\n",
       "    </tr>\n",
       "    <tr>\n",
       "      <th>119</th>\n",
       "      <td>135032.0</td>\n",
       "      <td>Cafeteria y Restaurant El Pacifico</td>\n",
       "      <td>22.152481</td>\n",
       "      <td>-100.973486</td>\n",
       "      <td>medium</td>\n",
       "      <td>96.228165</td>\n",
       "    </tr>\n",
       "    <tr>\n",
       "      <th>9</th>\n",
       "      <td>135082.0</td>\n",
       "      <td>la Estrella de Dimas</td>\n",
       "      <td>22.151448</td>\n",
       "      <td>-100.915099</td>\n",
       "      <td>medium</td>\n",
       "      <td>96.228165</td>\n",
       "    </tr>\n",
       "    <tr>\n",
       "      <th>56</th>\n",
       "      <td>135108.0</td>\n",
       "      <td>Potzocalli</td>\n",
       "      <td>22.136253</td>\n",
       "      <td>-100.933585</td>\n",
       "      <td>low</td>\n",
       "      <td>96.228165</td>\n",
       "    </tr>\n",
       "    <tr>\n",
       "      <th>30</th>\n",
       "      <td>135054.0</td>\n",
       "      <td>Restaurante y Pescaderia Tampico</td>\n",
       "      <td>22.140626</td>\n",
       "      <td>-100.915657</td>\n",
       "      <td>high</td>\n",
       "      <td>94.791938</td>\n",
       "    </tr>\n",
       "    <tr>\n",
       "      <th>79</th>\n",
       "      <td>135071.0</td>\n",
       "      <td>Restaurante la Cantina</td>\n",
       "      <td>22.126375</td>\n",
       "      <td>-100.910926</td>\n",
       "      <td>medium</td>\n",
       "      <td>94.791938</td>\n",
       "    </tr>\n",
       "    <tr>\n",
       "      <th>10</th>\n",
       "      <td>135070.0</td>\n",
       "      <td>Restaurante 75</td>\n",
       "      <td>22.152918</td>\n",
       "      <td>-100.915164</td>\n",
       "      <td>medium</td>\n",
       "      <td>94.791938</td>\n",
       "    </tr>\n",
       "  </tbody>\n",
       "</table>\n",
       "</div>"
      ],
      "text/plain": [
       "      placeID                                  name   latitude   longitude  \\\n",
       "121  135085.0                Tortas Locas Hipocampo  22.150802 -100.982680   \n",
       "42   135046.0               Restaurante El Reyecito  22.141282 -101.002958   \n",
       "120  135028.0                           La Virreina  22.146658 -100.987219   \n",
       "110  132921.0                              crudalia  22.150305 -100.989134   \n",
       "108  135075.0                  Mariscos El Pescador  22.139573 -100.991564   \n",
       "12   135065.0                  El angel Restaurante  22.149580 -100.999557   \n",
       "92   132572.0                          Cafe Chaires  22.141647 -100.992712   \n",
       "28   135045.0               Restaurante la Gran Via  22.151189 -100.981790   \n",
       "75   132951.0                                  VIPS  22.154474 -100.985809   \n",
       "35   135030.0              Preambulo Wifi Zone Cafe  22.147880 -100.989472   \n",
       "60   135038.0                 Restaurant la Chalita  22.155651 -100.977767   \n",
       "99   135039.0       Restaurant de Mariscos de Picon  22.145893 -100.974870   \n",
       "87   132830.0                       Rincon Huasteco  22.150849 -100.939752   \n",
       "63   135051.0                 Restaurante Versalles  22.151189 -100.977058   \n",
       "5    135040.0              Restaurant los Compadres  22.135617 -100.969709   \n",
       "1    132825.0                       puesto de tacos  22.147392 -100.983092   \n",
       "34   135025.0            El Rincon de San Francisco  22.149550 -100.977970   \n",
       "20   135033.0      Restaurant El Muladar de Calzada  22.141610 -100.973142   \n",
       "40   135041.0                             Luna Cafe  22.151060 -100.977659   \n",
       "117  132754.0                       Cabana Huasteca  22.147738 -100.990616   \n",
       "101  132755.0                  La Estrella de Dimas  22.153324 -101.019546   \n",
       "17   132937.0                           rockabilly   22.150019 -100.979920   \n",
       "95   132922.0                  cafe punta del cielo  22.151135 -100.982311   \n",
       "47   135059.0  Restaurant Bar Hacienda los Martinez  22.145108 -100.989547   \n",
       "21   132862.0                  La Posada del Virrey  22.150643 -100.987015   \n",
       "62   132723.0                     Gordas de morales  22.148934 -101.019845   \n",
       "59   135064.0   Restaurante El Chivero S.A. de C.V.  22.154687 -100.996617   \n",
       "37   135079.0                            Koye Sushi  22.156376 -100.998355   \n",
       "50   135080.0                           los Toneles  22.145008 -100.997969   \n",
       "61   135081.0                               El Club  22.164842 -100.960493   \n",
       "36   135057.0      El Herradero Restaurante and Bar  22.145992 -100.955118   \n",
       "52   135066.0                    Restaurante Guerra  22.168350 -100.972466   \n",
       "102  135043.0                         pizza clasica  22.185756 -100.944518   \n",
       "11   135069.0             Abondance Restaurante Bar  22.140129 -100.944872   \n",
       "113  135062.0         Restaurante El Cielo Potosino  22.153703 -100.979033   \n",
       "119  135032.0    Cafeteria y Restaurant El Pacifico  22.152481 -100.973486   \n",
       "9    135082.0                  la Estrella de Dimas  22.151448 -100.915099   \n",
       "56   135108.0                            Potzocalli  22.136253 -100.933585   \n",
       "30   135054.0      Restaurante y Pescaderia Tampico  22.140626 -100.915657   \n",
       "79   135071.0                Restaurante la Cantina  22.126375 -100.910926   \n",
       "10   135070.0                        Restaurante 75  22.152918 -100.915164   \n",
       "\n",
       "      price  Recommendation Percentage  \n",
       "121  medium                 100.000000  \n",
       "42   medium                 100.000000  \n",
       "120  medium                 100.000000  \n",
       "110     low                 100.000000  \n",
       "108  medium                 100.000000  \n",
       "12     high                 100.000000  \n",
       "92      low                 100.000000  \n",
       "28     high                 100.000000  \n",
       "75      low                 100.000000  \n",
       "35   medium                 100.000000  \n",
       "60   medium                 100.000000  \n",
       "99      low                  99.714785  \n",
       "87      low                  99.714785  \n",
       "63      low                  99.714785  \n",
       "5      high                  99.714785  \n",
       "1       low                  99.714785  \n",
       "34   medium                  99.714785  \n",
       "20   medium                  99.714785  \n",
       "40   medium                  99.010378  \n",
       "117  medium                  99.010378  \n",
       "101  medium                  99.010378  \n",
       "17      low                  99.010378  \n",
       "95   medium                  99.010378  \n",
       "47   medium                  99.010378  \n",
       "21     high                  99.010378  \n",
       "62   medium                  99.010378  \n",
       "59     high                  99.010378  \n",
       "37     high                  99.010378  \n",
       "50     high                  99.010378  \n",
       "61   medium                  96.228165  \n",
       "36   medium                  96.228165  \n",
       "52     high                  96.228165  \n",
       "102  medium                  96.228165  \n",
       "11      low                  96.228165  \n",
       "113  medium                  96.228165  \n",
       "119  medium                  96.228165  \n",
       "9    medium                  96.228165  \n",
       "56      low                  96.228165  \n",
       "30     high                  94.791938  \n",
       "79   medium                  94.791938  \n",
       "10   medium                  94.791938  "
      ]
     },
     "execution_count": 31,
     "metadata": {},
     "output_type": "execute_result"
    }
   ],
   "source": [
    "result.sort_values(by=['Recommendation Percentage'], ascending = False, inplace = True)\n",
    "result"
   ]
  },
  {
   "cell_type": "code",
   "execution_count": 32,
   "metadata": {},
   "outputs": [
    {
     "name": "stdout",
     "output_type": "stream",
     "text": [
      "The list of restaurants are being recommended to the user U1119\n"
     ]
    }
   ],
   "source": [
    "# obtaining the userID for which the above restaurants have been recommended.\n",
    "for index,row in cons_profile.iterrows(): \n",
    "    if index is sample_user_index:\n",
    "        sample_userID = cons_profile.userID[index]\n",
    "print(\"The list of restaurants are being recommended to the user\", sample_userID)        "
   ]
  }
 ],
 "metadata": {
  "kernelspec": {
   "display_name": "Python 3",
   "language": "python",
   "name": "python3"
  },
  "language_info": {
   "codemirror_mode": {
    "name": "ipython",
    "version": 3
   },
   "file_extension": ".py",
   "mimetype": "text/x-python",
   "name": "python",
   "nbconvert_exporter": "python",
   "pygments_lexer": "ipython3",
   "version": "3.6.5"
  }
 },
 "nbformat": 4,
 "nbformat_minor": 2
}
